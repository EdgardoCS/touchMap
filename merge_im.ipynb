{
 "cells": [
  {
   "cell_type": "code",
   "id": "6ed1db617cef5099",
   "metadata": {
    "ExecuteTime": {
     "end_time": "2025-06-04T14:29:00.250926Z",
     "start_time": "2025-06-04T14:29:00.244366Z"
    }
   },
   "source": [
    "import os\n",
    "import numpy as np\n",
    "import pandas as pd\n",
    "import time as time\n",
    "from PIL import Image"
   ],
   "outputs": [],
   "execution_count": 27
  },
  {
   "metadata": {
    "ExecuteTime": {
     "end_time": "2025-06-04T14:29:00.262485Z",
     "start_time": "2025-06-04T14:29:00.255586Z"
    }
   },
   "cell_type": "code",
   "source": [
    "def calculateHighest(pixel_data, width, height):\n",
    "    \"\"\"\n",
    "    [0]Red; [1]Blue; [2]Green; [3]Transparency\n",
    "    :param pixel_data:\n",
    "    :param width:\n",
    "    :param height:\n",
    "    :return: maximum value of transparency from A band, for this case this should be the 100% of intensity of touch\n",
    "    \"\"\"\n",
    "    total = []\n",
    "    input_pixel = pixel_data\n",
    "    for i in range(int(width)):  # for every col:\n",
    "        for j in range(int(height)):  # for every row:\n",
    "            alpha_value = input_pixel[i, j][3] / 255  # read data from the A band\n",
    "            total.append(alpha_value)\n",
    "    maximum = max(total)\n",
    "    return maximum"
   ],
   "id": "167ce588223f4f17",
   "outputs": [],
   "execution_count": 28
  },
  {
   "metadata": {
    "ExecuteTime": {
     "end_time": "2025-06-04T14:29:00.277619Z",
     "start_time": "2025-06-04T14:29:00.271570Z"
    }
   },
   "cell_type": "code",
   "source": [
    "def intensityNormalization(pixel_data, maximum):\n",
    "    \"\"\"\n",
    "\n",
    "    :param pixel_data:\n",
    "    :param maximum:\n",
    "    :return:\n",
    "    \"\"\"\n",
    "    input_pixel = pixel_data\n",
    "    alpha_value = input_pixel[3] / 255\n",
    "    new_r = int(input_pixel[0])\n",
    "    new_b = int(input_pixel[1])\n",
    "    new_g = int(input_pixel[2])\n",
    "    new_a = int((alpha_value * 100 / maximum))\n",
    "    new_pixel = (new_r, new_b, new_g, new_a)\n",
    "    return new_pixel\n"
   ],
   "id": "d526608c3d83bba0",
   "outputs": [],
   "execution_count": 29
  },
  {
   "metadata": {
    "ExecuteTime": {
     "end_time": "2025-06-04T14:29:00.315073Z",
     "start_time": "2025-06-04T14:29:00.311044Z"
    }
   },
   "cell_type": "code",
   "source": [
    "dir1 = 'source/data_pilot/Men Preferred Love/'\n",
    "dir2 = 'source/data_pilot/Men Preferred Sex/'\n",
    "dir3 = 'source/data_pilot/Men Received Love/'\n",
    "dir4 = 'source/data_pilot/Men Received Sex/'\n",
    "dir5 = 'source/data_pilot/Women Preferred Love/'\n",
    "dir6 = 'source/data_pilot/Women Preferred Sex/'\n",
    "dir7 = 'source/data_pilot/Women Received Love/'\n",
    "dir8 = 'source/data_pilot/Women Received Sex/'\n",
    "\n",
    "all_dir = [dir1, dir2, dir3, dir4,\n",
    "           dir5, dir6, dir7, dir8]"
   ],
   "id": "a1124201d4eacda0",
   "outputs": [],
   "execution_count": 30
  },
  {
   "metadata": {
    "collapsed": true,
    "ExecuteTime": {
     "end_time": "2025-06-04T14:39:00.410041Z",
     "start_time": "2025-06-04T14:38:30.391749Z"
    }
   },
   "cell_type": "code",
   "source": [
    "w = 800\n",
    "h = 300\n",
    "\n",
    "new_r = 0\n",
    "new_b = 0\n",
    "new_g = 0\n",
    "new_a = 0\n",
    "\n",
    "dbug = 1\n",
    "\n",
    "for target in all_dir:\n",
    "    print('Working on \"', target.split('/')[2], '\"')\n",
    "\n",
    "    for r, d, f in os.walk(target):\n",
    "\n",
    "        new_image = Image.new(mode=\"RGBA\", size=(800, 300))\n",
    "        merge_pixels = new_image.load()\n",
    "\n",
    "        for file in f:\n",
    "            if file.endswith('.png'):\n",
    "                print(file)\n",
    "                dbug += 1\n",
    "                im = Image.open(os.path.join(r, file))\n",
    "                im_pixels = im.load()\n",
    "                out_pixels = im.load()\n",
    "                intensity = calculateHighest(im_pixels, w, h)\n",
    "                for i in range(w):\n",
    "                    for j in range(h):\n",
    "                        out_pixels[i, j] = intensityNormalization(im_pixels[i, j], intensity)\n",
    "\n",
    "            # print(out_pixels)\n",
    "            for i in range(w):\n",
    "                for j in range(h):\n",
    "                    if out_pixels[i, j][0] == 255:\n",
    "                        new_r = merge_pixels[i, j][0] + 1\n",
    "                        new_b = 0\n",
    "                        new_g = 0\n",
    "                        new_a = merge_pixels[i, j][3] + out_pixels[i, j][3]\n",
    "                        new_pixel = (new_r, new_b, new_g, new_a)\n",
    "                        merge_pixels[i, j] = new_pixel\n",
    "\n",
    "        new_image.save('output/merge/' + target.split('/')[2] + \".png\", \"png\")\n",
    "        correct_color = Image.open('output/merge/' + target.split('/')[2] + \".png\")\n",
    "        img_array = np.array(correct_color)\n",
    "\n",
    "        r = img_array[:, :, 0]\n",
    "\n",
    "        mask_high = r > 1\n",
    "        mask_low = r <= 1\n",
    "\n",
    "        img_array[mask_high, 0] = 255\n",
    "\n",
    "        img_array[mask_low, 0] = 0\n",
    "        img_array[mask_low, 3] = 0\n",
    "\n",
    "        new_img = Image.fromarray(img_array)\n",
    "        new_img.save('output/merge/' + target.split('/')[2] + \".png\", \"png\")\n",
    "\n"
   ],
   "id": "initial_id",
   "outputs": [
    {
     "name": "stdout",
     "output_type": "stream",
     "text": [
      "Working on \" Men Preferred Love \"\n",
      "R_1YtHcvSDG01Iff3_signature.png\n",
      "R_21d2uiIEZ15j015_signature.png\n",
      "R_2j36Zt1QlxTgIcV_signature.png\n",
      "R_2STmRYONoqJZ8WZ_signature.png\n",
      "R_2SvGizciSJ8Jupo_signature.png\n",
      "R_5poWufHV0ePdX0t_signature.png\n",
      "R_7dmQJTCYooRF0sO_signature.png\n",
      "R_8byMPmtQ3SFmMkp_signature.png\n",
      "R_8MUaSTQ3mhIgKUF_signature.png\n",
      "R_8QE64CXx55mPr9S_signature.png\n",
      "R_8sZl23pyLHePbI2_signature.png\n",
      "Working on \" Men Preferred Sex \"\n",
      "R_1YtHcvSDG01Iff3_signature.png\n",
      "R_21d2uiIEZ15j015_signature.png\n",
      "R_2j36Zt1QlxTgIcV_signature.png\n",
      "R_2STmRYONoqJZ8WZ_signature.png\n",
      "R_2SvGizciSJ8Jupo_signature.png\n",
      "R_5poWufHV0ePdX0t_signature.png\n",
      "R_7dmQJTCYooRF0sO_signature.png\n",
      "R_8byMPmtQ3SFmMkp_signature.png\n",
      "R_8MUaSTQ3mhIgKUF_signature.png\n",
      "R_8QE64CXx55mPr9S_signature.png\n",
      "R_8sZl23pyLHePbI2_signature.png\n",
      "Working on \" Men Received Love \"\n",
      "R_1YtHcvSDG01Iff3_signature.png\n",
      "R_21d2uiIEZ15j015_signature.png\n",
      "R_2j36Zt1QlxTgIcV_signature.png\n",
      "R_2STmRYONoqJZ8WZ_signature.png\n",
      "R_2SvGizciSJ8Jupo_signature.png\n",
      "R_5poWufHV0ePdX0t_signature.png\n",
      "R_7dmQJTCYooRF0sO_signature.png\n",
      "R_8byMPmtQ3SFmMkp_signature.png\n",
      "R_8MUaSTQ3mhIgKUF_signature.png\n",
      "R_8QE64CXx55mPr9S_signature.png\n",
      "R_8sZl23pyLHePbI2_signature.png\n",
      "Working on \" Men Received Sex \"\n",
      "R_1YtHcvSDG01Iff3_signature.png\n",
      "R_21d2uiIEZ15j015_signature.png\n",
      "R_2j36Zt1QlxTgIcV_signature.png\n",
      "R_2STmRYONoqJZ8WZ_signature.png\n",
      "R_2SvGizciSJ8Jupo_signature.png\n",
      "R_5poWufHV0ePdX0t_signature.png\n",
      "R_7dmQJTCYooRF0sO_signature.png\n",
      "R_8byMPmtQ3SFmMkp_signature.png\n",
      "R_8MUaSTQ3mhIgKUF_signature.png\n",
      "R_8QE64CXx55mPr9S_signature.png\n",
      "R_8sZl23pyLHePbI2_signature.png\n",
      "Working on \" Women Preferred Love \"\n",
      "R_2eQoVYfbrbGUTIW_signature.png\n",
      "R_2I8Q3c1hSEQgLS1_signature.png\n",
      "R_2KOwYkZCeymStxL_signature.png\n",
      "R_2wyNgZm5WBcs6eB_signature.png\n",
      "R_3bG4cX0sDaZXi3n_signature.png\n",
      "R_5q272GEwk2IG410_signature.png\n",
      "R_61FaIMoQUyLmSvQ_signature.png\n",
      "R_8e3lSfrw3TLTVKs_signature.png\n",
      "R_8P7G9OWF0u31t29_signature.png\n",
      "R_8Pr47xpll7K8DD3_signature.png\n",
      "Working on \" Women Preferred Sex \"\n",
      "R_2eQoVYfbrbGUTIW_signature.png\n",
      "R_2I8Q3c1hSEQgLS1_signature.png\n",
      "R_2KOwYkZCeymStxL_signature.png\n",
      "R_2wyNgZm5WBcs6eB_signature.png\n",
      "R_3bG4cX0sDaZXi3n_signature.png\n",
      "R_5q272GEwk2IG410_signature.png\n",
      "R_61FaIMoQUyLmSvQ_signature.png\n",
      "R_8e3lSfrw3TLTVKs_signature.png\n",
      "R_8P7G9OWF0u31t29_signature.png\n",
      "R_8Pr47xpll7K8DD3_signature.png\n",
      "Working on \" Women Received Love \"\n",
      "R_2eQoVYfbrbGUTIW_signature.png\n",
      "R_2FCUnrQEfSrAWpW_signature.png\n",
      "R_2I8Q3c1hSEQgLS1_signature.png\n",
      "R_2KOwYkZCeymStxL_signature.png\n",
      "R_2wSJF13bQbTKAtq_signature.png\n",
      "R_2wyNgZm5WBcs6eB_signature.png\n",
      "R_3bG4cX0sDaZXi3n_signature.png\n",
      "R_5q272GEwk2IG410_signature.png\n",
      "R_61FaIMoQUyLmSvQ_signature.png\n",
      "R_8e3lSfrw3TLTVKs_signature.png\n",
      "R_8P7G9OWF0u31t29_signature.png\n",
      "R_8Pr47xpll7K8DD3_signature.png\n",
      "Working on \" Women Received Sex \"\n",
      "R_2eQoVYfbrbGUTIW_signature.png\n",
      "R_2I8Q3c1hSEQgLS1_signature.png\n",
      "R_2KOwYkZCeymStxL_signature.png\n",
      "R_2wyNgZm5WBcs6eB_signature.png\n",
      "R_3bG4cX0sDaZXi3n_signature.png\n",
      "R_5q272GEwk2IG410_signature.png\n",
      "R_61FaIMoQUyLmSvQ_signature.png\n",
      "R_8e3lSfrw3TLTVKs_signature.png\n",
      "R_8P7G9OWF0u31t29_signature.png\n",
      "R_8Pr47xpll7K8DD3_signature.png\n"
     ]
    }
   ],
   "execution_count": 32
  },
  {
   "metadata": {
    "ExecuteTime": {
     "end_time": "2025-06-04T14:29:29.831721Z",
     "start_time": "2025-06-04T14:29:29.823411Z"
    }
   },
   "cell_type": "code",
   "source": "",
   "id": "d43474fe0ff0a8bb",
   "outputs": [],
   "execution_count": null
  }
 ],
 "metadata": {
  "kernelspec": {
   "display_name": "Python 3",
   "language": "python",
   "name": "python3"
  },
  "language_info": {
   "codemirror_mode": {
    "name": "ipython",
    "version": 2
   },
   "file_extension": ".py",
   "mimetype": "text/x-python",
   "name": "python",
   "nbconvert_exporter": "python",
   "pygments_lexer": "ipython2",
   "version": "2.7.6"
  }
 },
 "nbformat": 4,
 "nbformat_minor": 5
}
